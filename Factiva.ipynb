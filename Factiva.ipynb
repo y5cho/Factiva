{
 "cells": [
  {
   "cell_type": "code",
   "execution_count": 43,
   "id": "cf05be8d",
   "metadata": {},
   "outputs": [],
   "source": [
    "import csv\n",
    "import pandas as pd\n",
    "import re \n",
    "from sklearn.naive_bayes import MultinomialNB\n",
    "from sklearn.model_selection import train_test_split as tts\n",
    "from sklearn.metrics import accuracy_score\n",
    "from nltk.corpus import stopwords\n",
    "from collections import Counter\n",
    "from nltk.corpus import wordnet\n",
    "from nltk.stem import WordNetLemmatizer\n",
    "import numpy as np\n",
    "\n",
    "from sklearn.feature_extraction.text import CountVectorizer\n",
    "from sklearn.feature_extraction.text import TfidfVectorizer\n",
    "from sklearn.svm import LinearSVC\n",
    "from sklearn.pipeline import Pipeline\n",
    "from sklearn.feature_selection import SelectKBest, chi2"
   ]
  },
  {
   "cell_type": "code",
   "execution_count": 39,
   "id": "29a5942b",
   "metadata": {},
   "outputs": [],
   "source": [
    "df = pd.read_csv(\"uscities.csv\")\n",
    "us_city_names = []\n",
    "for city in df[\"city\"][:1000]:\n",
    "    us_city_names.append(city)"
   ]
  },
  {
   "cell_type": "code",
   "execution_count": 3,
   "id": "9b16b573",
   "metadata": {},
   "outputs": [],
   "source": [
    "docu_file = open(\"Factiva_trial.txt\", \"r\")"
   ]
  },
  {
   "cell_type": "code",
   "execution_count": 4,
   "id": "539dceb6",
   "metadata": {},
   "outputs": [],
   "source": [
    "x = docu_file.read()"
   ]
  },
  {
   "cell_type": "code",
   "execution_count": 5,
   "id": "ad3e56ab",
   "metadata": {},
   "outputs": [],
   "source": [
    "article_list = x.strip().split(\"*AN*\")\n",
    "del article_list[-1]\n",
    "year_list = []\n",
    "for i in range(len(article_list)):\n",
    "    contain_year = article_list[i]\n",
    "    for element in contain_year.split(\"\\n\"):\n",
    "        if '*PD*' in element:\n",
    "            year = re.search(r\"\\d{4}\", element).group(0)\n",
    "            year_list.append(year)\n"
   ]
  },
  {
   "cell_type": "code",
   "execution_count": 6,
   "id": "c82b8432",
   "metadata": {},
   "outputs": [],
   "source": [
    "data = pd.DataFrame({'Year':year_list, 'Content':article_list})"
   ]
  },
  {
   "cell_type": "code",
   "execution_count": 36,
   "id": "da67de4e",
   "metadata": {},
   "outputs": [],
   "source": [
    "cleaned = []\n",
    "city_list = []\n",
    "for text in data['Content']:\n",
    "    doc = []\n",
    "    sent_list = text.split(\".\")\n",
    "    for sent in sent_list:\n",
    "        if \"curfew\" in sent:\n",
    "            doc.append(sent)\n",
    "    filtered = []\n",
    "    for sample in doc:\n",
    "        filtered.append(sample.replace(\"\\n\", \" \").replace(\"\\t\", \" \").replace(\"*\",\"\"))\n",
    "    cleaned.append(filtered)\n",
    "    main_bag = []\n",
    "    for e in filtered:\n",
    "        if '--' in e:\n",
    "            bag = e.split('--')\n",
    "            city = bag[0]\n",
    "        else:\n",
    "            city = ''\n",
    "        main_bag.append(city)\n",
    "    city_list.append(main_bag)"
   ]
  },
  {
   "cell_type": "code",
   "execution_count": 41,
   "id": "7f52d296",
   "metadata": {},
   "outputs": [],
   "source": [
    "stated_city = []\n",
    "for sentences in cleaned:\n",
    "    for texts in sentences:\n",
    "        words = texts.split(\" \")\n",
    "        span = []\n",
    "        if words in us_city_names:\n",
    "            span.append(us_city_names)\n",
    "    stated_city.append(span)"
   ]
  },
  {
   "cell_type": "code",
   "execution_count": 42,
   "id": "99a6fab8",
   "metadata": {},
   "outputs": [
    {
     "name": "stdout",
     "output_type": "stream",
     "text": [
      "[[], [], [], [], [], [], [], [], [], [], [], [], [], [], [], [], [], [], [], [], [], []]\n"
     ]
    }
   ],
   "source": [
    "print(stated_city)"
   ]
  },
  {
   "cell_type": "code",
   "execution_count": 37,
   "id": "11209180",
   "metadata": {},
   "outputs": [
    {
     "name": "stdout",
     "output_type": "stream",
     "text": [
      "22\n"
     ]
    }
   ],
   "source": [
    "print(len(city_list))"
   ]
  },
  {
   "cell_type": "code",
   "execution_count": 38,
   "id": "3f3e908d",
   "metadata": {},
   "outputs": [
    {
     "data": {
      "text/html": [
       "<div>\n",
       "<style scoped>\n",
       "    .dataframe tbody tr th:only-of-type {\n",
       "        vertical-align: middle;\n",
       "    }\n",
       "\n",
       "    .dataframe tbody tr th {\n",
       "        vertical-align: top;\n",
       "    }\n",
       "\n",
       "    .dataframe thead th {\n",
       "        text-align: right;\n",
       "    }\n",
       "</style>\n",
       "<table border=\"1\" class=\"dataframe\">\n",
       "  <thead>\n",
       "    <tr style=\"text-align: right;\">\n",
       "      <th></th>\n",
       "      <th>Year</th>\n",
       "      <th>Curfew</th>\n",
       "      <th>City</th>\n",
       "    </tr>\n",
       "  </thead>\n",
       "  <tbody>\n",
       "    <tr>\n",
       "      <th>0</th>\n",
       "      <td>1997</td>\n",
       "      <td>[ weekday curfew on people under 18 in Fairban...</td>\n",
       "      <td>[, , ]</td>\n",
       "    </tr>\n",
       "    <tr>\n",
       "      <th>1</th>\n",
       "      <td>1997</td>\n",
       "      <td>[ New Smyrna Beach -- A dusk-to-dawn curfew im...</td>\n",
       "      <td>[ New Smyrna Beach ]</td>\n",
       "    </tr>\n",
       "    <tr>\n",
       "      <th>2</th>\n",
       "      <td>1997</td>\n",
       "      <td>[  TD      Alaska  Anchorage -- More than 3,00...</td>\n",
       "      <td>[  TD      Alaska  Anchorage ]</td>\n",
       "    </tr>\n",
       "    <tr>\n",
       "      <th>3</th>\n",
       "      <td>1997</td>\n",
       "      <td>[ His plan ranges from imposing curfew on juve...</td>\n",
       "      <td>[]</td>\n",
       "    </tr>\n",
       "    <tr>\n",
       "      <th>4</th>\n",
       "      <td>1997</td>\n",
       "      <td>[ Marysville -- City Council voted to impose a...</td>\n",
       "      <td>[ Marysville ]</td>\n",
       "    </tr>\n",
       "    <tr>\n",
       "      <th>5</th>\n",
       "      <td>1997</td>\n",
       "      <td>[  Virginia  Richmond -- ACLU lawyers are taki...</td>\n",
       "      <td>[  Virginia  Richmond , ]</td>\n",
       "    </tr>\n",
       "    <tr>\n",
       "      <th>6</th>\n",
       "      <td>1997</td>\n",
       "      <td>[  Colorado  Loveland -- City Council approved...</td>\n",
       "      <td>[  Colorado  Loveland ]</td>\n",
       "    </tr>\n",
       "    <tr>\n",
       "      <th>7</th>\n",
       "      <td>1997</td>\n",
       "      <td>[  Pennsylvania  Philadelphia -- Police and co...</td>\n",
       "      <td>[  Pennsylvania  Philadelphia ]</td>\n",
       "    </tr>\n",
       "    <tr>\n",
       "      <th>8</th>\n",
       "      <td>1997</td>\n",
       "      <td>[ Parents of curfew violators could be fined u...</td>\n",
       "      <td>[]</td>\n",
       "    </tr>\n",
       "    <tr>\n",
       "      <th>9</th>\n",
       "      <td>1997</td>\n",
       "      <td>[  Virginia  Manassas -- County officials on T...</td>\n",
       "      <td>[  Virginia  Manassas , ]</td>\n",
       "    </tr>\n",
       "    <tr>\n",
       "      <th>10</th>\n",
       "      <td>1997</td>\n",
       "      <td>[  Virginia  Charlottesville -- The state's AC...</td>\n",
       "      <td>[  Virginia  Charlottesville , ]</td>\n",
       "    </tr>\n",
       "    <tr>\n",
       "      <th>11</th>\n",
       "      <td>1997</td>\n",
       "      <td>[  Arkansas  Little Rock -- A youth curfew and...</td>\n",
       "      <td>[  Arkansas  Little Rock ]</td>\n",
       "    </tr>\n",
       "    <tr>\n",
       "      <th>12</th>\n",
       "      <td>1996</td>\n",
       "      <td>[  Mississippi  Tupelo -- Police are pleased w...</td>\n",
       "      <td>[  Mississippi  Tupelo ]</td>\n",
       "    </tr>\n",
       "    <tr>\n",
       "      <th>13</th>\n",
       "      <td>1996</td>\n",
       "      <td>[ curfew for areas along the South Platte and ...</td>\n",
       "      <td>[]</td>\n",
       "    </tr>\n",
       "    <tr>\n",
       "      <th>14</th>\n",
       "      <td>1996</td>\n",
       "      <td>[  South Dakota  Madison -- The Madison County...</td>\n",
       "      <td>[  South Dakota  Madison ]</td>\n",
       "    </tr>\n",
       "    <tr>\n",
       "      <th>15</th>\n",
       "      <td>1996</td>\n",
       "      <td>[  Mississippi  Leland -- A dusk-to-dawn curfe...</td>\n",
       "      <td>[  Mississippi  Leland ,   Wyoming  Cheyenne ,...</td>\n",
       "    </tr>\n",
       "    <tr>\n",
       "      <th>16</th>\n",
       "      <td>1996</td>\n",
       "      <td>[  A federal judge overturned the district's t...</td>\n",
       "      <td>[, ]</td>\n",
       "    </tr>\n",
       "    <tr>\n",
       "      <th>17</th>\n",
       "      <td>1996</td>\n",
       "      <td>[ The program will offer help to parents strug...</td>\n",
       "      <td>[]</td>\n",
       "    </tr>\n",
       "    <tr>\n",
       "      <th>18</th>\n",
       "      <td>1996</td>\n",
       "      <td>[ Mike Reynolds said he'll present a curfew or...</td>\n",
       "      <td>[]</td>\n",
       "    </tr>\n",
       "    <tr>\n",
       "      <th>19</th>\n",
       "      <td>1996</td>\n",
       "      <td>[ New York -- Mayor Rudy Giuliani says he'll c...</td>\n",
       "      <td>[ New York ]</td>\n",
       "    </tr>\n",
       "    <tr>\n",
       "      <th>20</th>\n",
       "      <td>1996</td>\n",
       "      <td>[ weekend curfew for minors,  Merchants servin...</td>\n",
       "      <td>[, ]</td>\n",
       "    </tr>\n",
       "    <tr>\n",
       "      <th>21</th>\n",
       "      <td>1996</td>\n",
       "      <td>[  Maryland  Annapolis -- A rise in juvenile c...</td>\n",
       "      <td>[  Maryland  Annapolis , ]</td>\n",
       "    </tr>\n",
       "  </tbody>\n",
       "</table>\n",
       "</div>"
      ],
      "text/plain": [
       "    Year                                             Curfew  \\\n",
       "0   1997  [ weekday curfew on people under 18 in Fairban...   \n",
       "1   1997  [ New Smyrna Beach -- A dusk-to-dawn curfew im...   \n",
       "2   1997  [  TD      Alaska  Anchorage -- More than 3,00...   \n",
       "3   1997  [ His plan ranges from imposing curfew on juve...   \n",
       "4   1997  [ Marysville -- City Council voted to impose a...   \n",
       "5   1997  [  Virginia  Richmond -- ACLU lawyers are taki...   \n",
       "6   1997  [  Colorado  Loveland -- City Council approved...   \n",
       "7   1997  [  Pennsylvania  Philadelphia -- Police and co...   \n",
       "8   1997  [ Parents of curfew violators could be fined u...   \n",
       "9   1997  [  Virginia  Manassas -- County officials on T...   \n",
       "10  1997  [  Virginia  Charlottesville -- The state's AC...   \n",
       "11  1997  [  Arkansas  Little Rock -- A youth curfew and...   \n",
       "12  1996  [  Mississippi  Tupelo -- Police are pleased w...   \n",
       "13  1996  [ curfew for areas along the South Platte and ...   \n",
       "14  1996  [  South Dakota  Madison -- The Madison County...   \n",
       "15  1996  [  Mississippi  Leland -- A dusk-to-dawn curfe...   \n",
       "16  1996  [  A federal judge overturned the district's t...   \n",
       "17  1996  [ The program will offer help to parents strug...   \n",
       "18  1996  [ Mike Reynolds said he'll present a curfew or...   \n",
       "19  1996  [ New York -- Mayor Rudy Giuliani says he'll c...   \n",
       "20  1996  [ weekend curfew for minors,  Merchants servin...   \n",
       "21  1996  [  Maryland  Annapolis -- A rise in juvenile c...   \n",
       "\n",
       "                                                 City  \n",
       "0                                              [, , ]  \n",
       "1                                [ New Smyrna Beach ]  \n",
       "2                      [  TD      Alaska  Anchorage ]  \n",
       "3                                                  []  \n",
       "4                                      [ Marysville ]  \n",
       "5                           [  Virginia  Richmond , ]  \n",
       "6                             [  Colorado  Loveland ]  \n",
       "7                     [  Pennsylvania  Philadelphia ]  \n",
       "8                                                  []  \n",
       "9                           [  Virginia  Manassas , ]  \n",
       "10                   [  Virginia  Charlottesville , ]  \n",
       "11                         [  Arkansas  Little Rock ]  \n",
       "12                           [  Mississippi  Tupelo ]  \n",
       "13                                                 []  \n",
       "14                         [  South Dakota  Madison ]  \n",
       "15  [  Mississippi  Leland ,   Wyoming  Cheyenne ,...  \n",
       "16                                               [, ]  \n",
       "17                                                 []  \n",
       "18                                                 []  \n",
       "19                                       [ New York ]  \n",
       "20                                               [, ]  \n",
       "21                         [  Maryland  Annapolis , ]  "
      ]
     },
     "execution_count": 38,
     "metadata": {},
     "output_type": "execute_result"
    }
   ],
   "source": [
    "table = pd.DataFrame({'Year':year_list, 'Curfew':cleaned, 'City':city_list})\n",
    "table"
   ]
  },
  {
   "cell_type": "code",
   "execution_count": 31,
   "id": "4fa06c33",
   "metadata": {},
   "outputs": [
    {
     "name": "stdout",
     "output_type": "stream",
     "text": [
      "[' weekday curfew on people under 18 in Fairbanks and North Pole', ' On weekends and in the summer the curfew would be 1 a', ' The curfew is similar to one adopted by Anchorage voters Nov']\n",
      "[' New Smyrna Beach -- A dusk-to-dawn curfew imposed on portions of the community following a Sunday tornado will probably be in effect for several days, officials said']\n",
      "[\"  TD      Alaska  Anchorage -- More than 3,000 minors have been cited for breaking the city's curfew, but officials say more than $226,000 in fines remains uncollected\"]\n",
      "[' His plan ranges from imposing curfew on juveniles on probation to creating a drug-free zone in Washington Square Park, long hallowed ground for dealers']\n",
      "[' Marysville -- City Council voted to impose a curfew for teens']\n",
      "['  Virginia  Richmond -- ACLU lawyers are taking the city of Charlottesville to court over a curfew for teen-agers', ' The curfew became effective March 1']\n",
      "['  Colorado  Loveland -- City Council approved on first vote a curfew that bars youths under 18 from being out in the city after midnight weekdays and 1 a']\n",
      "['  Pennsylvania  Philadelphia -- Police and community leaders say creative sentencing, like requiring an amatuer rap musician arrested for breaking curfew to write a song about his experience, helps teach youngsters to stay out of trouble']\n",
      "[' Parents of curfew violators could be fined up to $500']\n",
      "['  Virginia  Manassas -- County officials on Tuesday approved a curfew for people under 18 in an attempt to stop youth crime', ' The curfew, in effect starting July 1, includes 11 p']\n"
     ]
    }
   ],
   "source": [
    "for i in table['Curfew'][:10]:\n",
    "    print(i)"
   ]
  },
  {
   "cell_type": "code",
   "execution_count": 55,
   "id": "47839169",
   "metadata": {},
   "outputs": [],
   "source": [
    "sample = {'New legislation was enacted in 1992, and a partnership was established between the Phoenix Police Department and the Department of Parks, Recreation, and Libraries (PRL)': '1', 'Chicago, Illinois Chicago passed its first curfew ordinance in July 1948': '1' , 'The organization already has taken on several curfew cases, including a 1995 Washington curfew and a San Diego curfew passed in 1947': '1', 'In June, the council passed a juvenile curfew ordinance modeled on one used in Dallas':'1' , 'In June, the council passed a juvenile curfew ordinance modeled on one used in DallasPasco commissioners passed a countywide curfew in March after more than 18 months of lobbying by Sheriff Lee Cannon When Zephyrhills passed its curfew ordinance in April, it was merely to modernize what had existed for some time, Police Chief Robert Howell said': '1',\n",
    "         'Largo passed a curfew in February but granted a grace period to inform kids about it':'1', 'Moore and Oklahoma City passed curfew ordinances last month':'1', 'A curfew law was passed about a month ago in Pocatello':'1', 'The state judges decision probably invalidates most of the curfew laws on the books in at least two dozen Washington cities, including La Center, which enacted a curfew ordinance similar to Bellinghams 15 months ago':'1', 'Edmond City Attorney Steve Murdock said the current curfew ordinance was enacted in 1974':'1', 'South Charleston City Council enacted a curfew law in December 1993':'1', 'Pocatello and Blackfoot have recently passed similar ordinances':'1', 'Judge Emmet Sullivan said the District of Columbia Council had passed the curfew without credible statistical evidence that youths commit more crimes or become victims more often during the hours of the curfew: 11 P.M':'1',\n",
    "         'Lakeland passed an ordinance last month requiring youths younger than 16 to be home by 11 p.m':'1', 'in November 1994, Pawtucket enacted a curfew that served as a model for the one the council approved last night':'1','The DeSoto County Commission unanimously passed an ordinance limiting the times juveniles are allowed to be on the streets, aligning itself with the city curfew enacted last month':'1', 'Largo passed a curfew in February modeled after Pinellas Parks':'1', 'Tampa passed a curfew in January, prohibiting people younger than 17 from being on the streets from 11 p.m':'1', 'Tampa has had a curfew for children under 17 since January 1994':'1', 'Largo adopted a similar ordinance in 1998':'1', 'Lakeland passed an ordinance last month requiring youths younger than 16 to be home by 11 p.m': '1', 'The DeSoto County Commission unanimously passed an ordinance limiting the times juveniles are allowed to be on the streets, aligning itself with the city curfew enacted last month':'1',\n",
    "         'South Charleston City Council enacted a curfew law in December 1993':'1', 'the council passed a juvenile curfew ordinance modeled on one used in Dallas':'1', 'Joseph County Council gave unanimous approval Tuesday to a curfew for juveniles in the county areas outside South Bend and Mishawaka':'1'}\n",
    "final_sample = {}\n",
    "for key,value in sample.items():\n",
    "    if key not in final_sample.keys():\n",
    "        final_sample[key] = value"
   ]
  },
  {
   "cell_type": "code",
   "execution_count": 56,
   "id": "5debb52e",
   "metadata": {},
   "outputs": [],
   "source": [
    "sample_zero = {'The proposed curfew would mirror one going into effect at 12:01 Saturday morning in Lakeland':'0', 'In Tampa, Mayor Sandy Freedman vetoed a juvenile curfew for Ybor City after the ACLU promised to sue if the curfew were enacted':'0','The Dallas curfew is a case in point':'0', 'The Denver curfew program enjoys a collaborative partnership with 234 community programs to which children and their families are diverted':'0', 'In support of the curfew ordinance, the Jacksonville Police Department, the Duval County Parks, Recreation, and Entertainment Department, and the Duval County School Board provide a range of community-based delinquency prevention programs':'0', '\"We oppose the law because it violates the constitutional rights of teenagers,\" says Arthur Spitzer, legal director of the ACLUs Washington chapter':'0', 'The Tampa ordinance gave parents more leeway, he wrote, by allowing children to break curfew to run general errands for their parents, for example':'0', \n",
    "                'The highest courts in Iowa, Hawaii and Washington state have found curfews unconstitutional, while other courts have upheld curfews in Charlottesville, Va., and Dallas':'0', 'A 17-year-old South Bend teen received a ticket about 15 minutes past curfew on March 12 at the intersection of Cleveland Road and Riverside Drive':'0', 'The West Virginia justices - with Starcher dissenting - acknowledged that an ordinance in Charleston infringed on some civil liberties, but said the impact was not severe enough to be unconstitutional':'0', 'The thing is, Burke initially opposed the curfew in Largo':'0', 'In Dallas in 1995, the first full year of the curfew, the police picked up 4,000 young people, of whom 2,500 were repeat offenders who were given citations ordering them to court':'0',\n",
    "              'He also ruled the city of Indianapolis policy of subjecting minors who break curfew to drug and alcohol tests violates the Fourth Amendment':'0', '\"Juvenile crime has increased at a greater rate than adult crime in Dubuque in the 90s,\" Mauss said':'0','Pasco Sheriff Lee Cannon expects to reintroduce a proposed juvenile curfew to Pasco commissioners next week':'0', 'San Diego will continue to be one of the nations safest large cities. New York City had the lowest overall crime rate among big cities':'0',\n",
    "              'Taylor thinks the curfew has been effective':'0','Kenton Tarver, East Lake High Editor: The one crime this curfew law wont stop is the robbery of memories, good times and friendship that, according to Tampa City Council, must end at 10 p.m':'0', 'Pedestrian killed on Providence Road BRANDON - A pedestrian died after being hit by a car Tuesday evening on Providence Road south of Brandon Boulevard':'0', '\"The word has gotten out to the kids, stay off the streets after hours.\" Since the curfew took effect, Lakeland police have reported a 41 percent overall reduction in juvenile crime':'0', 'Strauss , that the exemptions under the Dallas ordinance, which permitted juveniles to exercise their fundamental rights and remain in public, demonstrated that the ordinance was narrowly tailored to meet the citys legitimate objectives':'0',\n",
    "              'Rice acknowledged that Newark already has a curfew, but he said that it has proved unenforceable, largely, he maintained, because parents were not held responsible for their childrens violations':'0', 'A curfew in Largo also could be affected, but officials said it was too early to tell':'0', 'So, many of those who want to race, or just pose as if they were racers, go to illegal street events like these, or to similar industrial areas in Ontario, Gardena and Huntington Beach':'0', 'Tampa passed a similar curfew two years ago, but for the most part it has gone unenforced because police and city attorneys believed it would not stand up under legal challenges':'0', 'He expects something similar to happen if Largo enacts its curfew':'0',\n",
    "              'Oklahoma City also has a curfew rule, patterned after a similar ordinance in Dallas':'0', 'Fourteen years later, in 1989, Simbi Waters challenged a juvenile curfew ordinance in the District of Columbia on the grounds that it violated her first, fourth, and fifth amendment rights':'0', 'With the Powder Springs City Councils adoption this week of a teen curfew':'0', 'In Tampa, Mayor Sandy Freedman vetoed a juvenile curfew for Ybor City after the ACLU promised to sue if the curfew were enacted':'0', 'Annie Brown Kennedy of Winston-Salem, N.C., the first black woman to serve in the North Carolina Legislature, announced that shell retire when her term ends in 1994':'0', '5841 Roswell Road: The 16-year-old girl had passed out in the Sandy Springs bar and an ambulance was called':'0'}\n",
    "final_sample_zero = {}\n",
    "for key,value in sample_zero.items():\n",
    "    if key not in final_sample_zero.keys():\n",
    "        final_sample_zero[key] = value"
   ]
  },
  {
   "cell_type": "code",
   "execution_count": 57,
   "id": "ad636d4b",
   "metadata": {},
   "outputs": [],
   "source": [
    "final_sample.update(final_sample_zero)"
   ]
  },
  {
   "cell_type": "code",
   "execution_count": 58,
   "id": "dda409db",
   "metadata": {},
   "outputs": [],
   "source": [
    "raw_feature = []\n",
    "labels = []\n",
    "feature_set = []\n",
    "for key, value in final_sample.items():\n",
    "    raw_feature.append(key.title())\n",
    "    words = key.title().split(' ')\n",
    "    data = []\n",
    "    feature_set.append(data)\n",
    "    labels.append(value)"
   ]
  },
  {
   "cell_type": "code",
   "execution_count": 66,
   "id": "993a1a67",
   "metadata": {},
   "outputs": [],
   "source": [
    "x_train, x_test, y_train, y_test = tts(raw_feature, labels, test_size=0.3)"
   ]
  },
  {
   "cell_type": "code",
   "execution_count": 67,
   "id": "312fd1de",
   "metadata": {},
   "outputs": [],
   "source": [
    "pipeline = Pipeline([('vect', CountVectorizer(stop_words='english', token_pattern =r'\\b[^\\d\\W]+\\b', min_df = 2, max_df = 0.5)),\n",
    "                    ('clf', MultinomialNB())])"
   ]
  },
  {
   "cell_type": "code",
   "execution_count": 68,
   "id": "8623d5bd",
   "metadata": {},
   "outputs": [],
   "source": [
    "model = pipeline.fit(x_train, y_train)"
   ]
  },
  {
   "cell_type": "code",
   "execution_count": 69,
   "id": "7161c4e6",
   "metadata": {},
   "outputs": [
    {
     "name": "stdout",
     "output_type": "stream",
     "text": [
      "0.625\n"
     ]
    }
   ],
   "source": [
    "print(str(model.score(x_test, y_test)))"
   ]
  },
  {
   "cell_type": "code",
   "execution_count": null,
   "id": "70a35417",
   "metadata": {},
   "outputs": [],
   "source": [
    "hits = []\n",
    "for sents in table['Curfew']:\n",
    "    list_sents = [sents]\n",
    "    result = model.predict(list_sents)\n",
    "    print(result[0])"
   ]
  },
  {
   "cell_type": "code",
   "execution_count": null,
   "id": "2e7c89a1",
   "metadata": {},
   "outputs": [],
   "source": []
  },
  {
   "cell_type": "code",
   "execution_count": null,
   "id": "55bcef79",
   "metadata": {},
   "outputs": [],
   "source": []
  },
  {
   "cell_type": "code",
   "execution_count": null,
   "id": "d949f20b",
   "metadata": {},
   "outputs": [],
   "source": []
  },
  {
   "cell_type": "code",
   "execution_count": null,
   "id": "f7fd8c03",
   "metadata": {},
   "outputs": [],
   "source": []
  },
  {
   "cell_type": "code",
   "execution_count": null,
   "id": "fb909b00",
   "metadata": {},
   "outputs": [],
   "source": []
  }
 ],
 "metadata": {
  "kernelspec": {
   "display_name": "Python 3",
   "language": "python",
   "name": "python3"
  },
  "language_info": {
   "codemirror_mode": {
    "name": "ipython",
    "version": 3
   },
   "file_extension": ".py",
   "mimetype": "text/x-python",
   "name": "python",
   "nbconvert_exporter": "python",
   "pygments_lexer": "ipython3",
   "version": "3.8.8"
  }
 },
 "nbformat": 4,
 "nbformat_minor": 5
}
